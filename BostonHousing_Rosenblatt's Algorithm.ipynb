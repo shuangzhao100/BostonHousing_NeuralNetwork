{
 "cells": [
  {
   "cell_type": "markdown",
   "id": "c1a58f1f",
   "metadata": {},
   "source": [
    "###  Rosenblatt's Algorithm"
   ]
  },
  {
   "cell_type": "code",
   "execution_count": 5,
   "id": "3fdc8da0",
   "metadata": {},
   "outputs": [],
   "source": [
    "# import packages \n",
    "import pandas as pd\n",
    "import numpy as np\n",
    "import matplotlib.pyplot as plt\n",
    "from sklearn.neural_network import MLPRegressor\n",
    "from sklearn.neural_network import MLPClassifier\n",
    "from sklearn.model_selection import train_test_split\n",
    "from sklearn.metrics import mean_squared_error\n",
    "from sklearn import datasets"
   ]
  },
  {
   "cell_type": "code",
   "execution_count": 7,
   "id": "9f081aeb",
   "metadata": {},
   "outputs": [],
   "source": [
    "# load the boston housing dataset\n",
    "boston = datasets.load_boston()"
   ]
  },
  {
   "cell_type": "code",
   "execution_count": 40,
   "id": "7bd76dbf",
   "metadata": {},
   "outputs": [],
   "source": [
    "# construct the dataframe\n",
    "x = pd.DataFrame(boston.data)\n",
    "x.columns = boston.feature_names\n",
    "y=pd.DataFrame(boston.target)\n",
    "y.columns=['MEDV']\n",
    "data = pd.concat([x,y], axis=1)"
   ]
  },
  {
   "cell_type": "code",
   "execution_count": 5,
   "id": "3daf9903",
   "metadata": {},
   "outputs": [
    {
     "data": {
      "text/html": [
       "<div>\n",
       "<style scoped>\n",
       "    .dataframe tbody tr th:only-of-type {\n",
       "        vertical-align: middle;\n",
       "    }\n",
       "\n",
       "    .dataframe tbody tr th {\n",
       "        vertical-align: top;\n",
       "    }\n",
       "\n",
       "    .dataframe thead th {\n",
       "        text-align: right;\n",
       "    }\n",
       "</style>\n",
       "<table border=\"1\" class=\"dataframe\">\n",
       "  <thead>\n",
       "    <tr style=\"text-align: right;\">\n",
       "      <th></th>\n",
       "      <th>CRIM</th>\n",
       "      <th>ZN</th>\n",
       "      <th>INDUS</th>\n",
       "      <th>CHAS</th>\n",
       "      <th>NOX</th>\n",
       "      <th>RM</th>\n",
       "      <th>AGE</th>\n",
       "      <th>DIS</th>\n",
       "      <th>RAD</th>\n",
       "      <th>TAX</th>\n",
       "      <th>PTRATIO</th>\n",
       "      <th>B</th>\n",
       "      <th>LSTAT</th>\n",
       "      <th>MEDV</th>\n",
       "    </tr>\n",
       "  </thead>\n",
       "  <tbody>\n",
       "    <tr>\n",
       "      <th>0</th>\n",
       "      <td>0.00632</td>\n",
       "      <td>18.0</td>\n",
       "      <td>2.31</td>\n",
       "      <td>0.0</td>\n",
       "      <td>0.538</td>\n",
       "      <td>6.575</td>\n",
       "      <td>65.2</td>\n",
       "      <td>4.0900</td>\n",
       "      <td>1.0</td>\n",
       "      <td>296.0</td>\n",
       "      <td>15.3</td>\n",
       "      <td>396.90</td>\n",
       "      <td>4.98</td>\n",
       "      <td>24.0</td>\n",
       "    </tr>\n",
       "    <tr>\n",
       "      <th>1</th>\n",
       "      <td>0.02731</td>\n",
       "      <td>0.0</td>\n",
       "      <td>7.07</td>\n",
       "      <td>0.0</td>\n",
       "      <td>0.469</td>\n",
       "      <td>6.421</td>\n",
       "      <td>78.9</td>\n",
       "      <td>4.9671</td>\n",
       "      <td>2.0</td>\n",
       "      <td>242.0</td>\n",
       "      <td>17.8</td>\n",
       "      <td>396.90</td>\n",
       "      <td>9.14</td>\n",
       "      <td>21.6</td>\n",
       "    </tr>\n",
       "    <tr>\n",
       "      <th>2</th>\n",
       "      <td>0.02729</td>\n",
       "      <td>0.0</td>\n",
       "      <td>7.07</td>\n",
       "      <td>0.0</td>\n",
       "      <td>0.469</td>\n",
       "      <td>7.185</td>\n",
       "      <td>61.1</td>\n",
       "      <td>4.9671</td>\n",
       "      <td>2.0</td>\n",
       "      <td>242.0</td>\n",
       "      <td>17.8</td>\n",
       "      <td>392.83</td>\n",
       "      <td>4.03</td>\n",
       "      <td>34.7</td>\n",
       "    </tr>\n",
       "  </tbody>\n",
       "</table>\n",
       "</div>"
      ],
      "text/plain": [
       "      CRIM    ZN  INDUS  CHAS    NOX     RM   AGE     DIS  RAD    TAX  \\\n",
       "0  0.00632  18.0   2.31   0.0  0.538  6.575  65.2  4.0900  1.0  296.0   \n",
       "1  0.02731   0.0   7.07   0.0  0.469  6.421  78.9  4.9671  2.0  242.0   \n",
       "2  0.02729   0.0   7.07   0.0  0.469  7.185  61.1  4.9671  2.0  242.0   \n",
       "\n",
       "   PTRATIO       B  LSTAT  MEDV  \n",
       "0     15.3  396.90   4.98  24.0  \n",
       "1     17.8  396.90   9.14  21.6  \n",
       "2     17.8  392.83   4.03  34.7  "
      ]
     },
     "execution_count": 5,
     "metadata": {},
     "output_type": "execute_result"
    }
   ],
   "source": [
    "# check the top rows\n",
    "data.head(3)"
   ]
  },
  {
   "cell_type": "code",
   "execution_count": 42,
   "id": "a75d7478",
   "metadata": {},
   "outputs": [
    {
     "data": {
      "text/plain": [
       "dtype('bool')"
      ]
     },
     "execution_count": 42,
     "metadata": {},
     "output_type": "execute_result"
    }
   ],
   "source": [
    "# Create a boolean indicator of whether MEDV is greater than 40\n",
    "data['HighPriced'] = data['MEDV'] > 40\n",
    "data['HighPriced'].dtypes"
   ]
  },
  {
   "cell_type": "code",
   "execution_count": 7,
   "id": "5639592a",
   "metadata": {
    "scrolled": false
   },
   "outputs": [
    {
     "data": {
      "text/html": [
       "<div>\n",
       "<style scoped>\n",
       "    .dataframe tbody tr th:only-of-type {\n",
       "        vertical-align: middle;\n",
       "    }\n",
       "\n",
       "    .dataframe tbody tr th {\n",
       "        vertical-align: top;\n",
       "    }\n",
       "\n",
       "    .dataframe thead th {\n",
       "        text-align: right;\n",
       "    }\n",
       "</style>\n",
       "<table border=\"1\" class=\"dataframe\">\n",
       "  <thead>\n",
       "    <tr style=\"text-align: right;\">\n",
       "      <th></th>\n",
       "      <th>CRIM</th>\n",
       "      <th>ZN</th>\n",
       "      <th>INDUS</th>\n",
       "      <th>CHAS</th>\n",
       "      <th>NOX</th>\n",
       "      <th>RM</th>\n",
       "      <th>AGE</th>\n",
       "      <th>DIS</th>\n",
       "      <th>RAD</th>\n",
       "      <th>TAX</th>\n",
       "      <th>PTRATIO</th>\n",
       "      <th>B</th>\n",
       "      <th>LSTAT</th>\n",
       "      <th>MEDV</th>\n",
       "      <th>HighPriced</th>\n",
       "    </tr>\n",
       "  </thead>\n",
       "  <tbody>\n",
       "    <tr>\n",
       "      <th>0</th>\n",
       "      <td>0.00632</td>\n",
       "      <td>18.0</td>\n",
       "      <td>2.31</td>\n",
       "      <td>0.0</td>\n",
       "      <td>0.538</td>\n",
       "      <td>6.575</td>\n",
       "      <td>65.2</td>\n",
       "      <td>4.0900</td>\n",
       "      <td>1.0</td>\n",
       "      <td>296.0</td>\n",
       "      <td>15.3</td>\n",
       "      <td>396.90</td>\n",
       "      <td>4.98</td>\n",
       "      <td>24.0</td>\n",
       "      <td>False</td>\n",
       "    </tr>\n",
       "    <tr>\n",
       "      <th>1</th>\n",
       "      <td>0.02731</td>\n",
       "      <td>0.0</td>\n",
       "      <td>7.07</td>\n",
       "      <td>0.0</td>\n",
       "      <td>0.469</td>\n",
       "      <td>6.421</td>\n",
       "      <td>78.9</td>\n",
       "      <td>4.9671</td>\n",
       "      <td>2.0</td>\n",
       "      <td>242.0</td>\n",
       "      <td>17.8</td>\n",
       "      <td>396.90</td>\n",
       "      <td>9.14</td>\n",
       "      <td>21.6</td>\n",
       "      <td>False</td>\n",
       "    </tr>\n",
       "    <tr>\n",
       "      <th>2</th>\n",
       "      <td>0.02729</td>\n",
       "      <td>0.0</td>\n",
       "      <td>7.07</td>\n",
       "      <td>0.0</td>\n",
       "      <td>0.469</td>\n",
       "      <td>7.185</td>\n",
       "      <td>61.1</td>\n",
       "      <td>4.9671</td>\n",
       "      <td>2.0</td>\n",
       "      <td>242.0</td>\n",
       "      <td>17.8</td>\n",
       "      <td>392.83</td>\n",
       "      <td>4.03</td>\n",
       "      <td>34.7</td>\n",
       "      <td>False</td>\n",
       "    </tr>\n",
       "  </tbody>\n",
       "</table>\n",
       "</div>"
      ],
      "text/plain": [
       "      CRIM    ZN  INDUS  CHAS    NOX     RM   AGE     DIS  RAD    TAX  \\\n",
       "0  0.00632  18.0   2.31   0.0  0.538  6.575  65.2  4.0900  1.0  296.0   \n",
       "1  0.02731   0.0   7.07   0.0  0.469  6.421  78.9  4.9671  2.0  242.0   \n",
       "2  0.02729   0.0   7.07   0.0  0.469  7.185  61.1  4.9671  2.0  242.0   \n",
       "\n",
       "   PTRATIO       B  LSTAT  MEDV  HighPriced  \n",
       "0     15.3  396.90   4.98  24.0       False  \n",
       "1     17.8  396.90   9.14  21.6       False  \n",
       "2     17.8  392.83   4.03  34.7       False  "
      ]
     },
     "execution_count": 7,
     "metadata": {},
     "output_type": "execute_result"
    }
   ],
   "source": [
    "# check the top rows\n",
    "data.head(3)"
   ]
  },
  {
   "cell_type": "code",
   "execution_count": 8,
   "id": "58e4b6ad",
   "metadata": {},
   "outputs": [],
   "source": [
    "# Show that this variable is linearly separable across the MEDV and RM variables \n",
    "# by plotting in a two dimensional space."
   ]
  },
  {
   "cell_type": "code",
   "execution_count": 9,
   "id": "8a5f3e5b",
   "metadata": {
    "scrolled": true
   },
   "outputs": [
    {
     "data": {
      "image/png": "[encoded data removed]",
      "text/plain": [
       "<Figure size 360x360 with 1 Axes>"
      ]
     },
     "metadata": {
      "needs_background": "light"
     },
     "output_type": "display_data"
    }
   ],
   "source": [
    "plt.rcParams[\"figure.figsize\"] = (5,5)\n",
    "plt.scatter(data['RM'], data['MEDV'], c = data['HighPriced'])\n",
    "plt.xlabel('RM', fontsize=16)\n",
    "plt.ylabel('MEDV', fontsize=16)\n",
    "plt.title('Scatter plot of RM and MEDV', fontsize = 20)\n",
    "plt.ylim(0., 55.0)\n",
    "plt.xlim(0., 9.0)\n",
    "plt.legend(data['HighPriced'])\n",
    "plt.show()"
   ]
  },
  {
   "cell_type": "markdown",
   "id": "37472747",
   "metadata": {},
   "source": [
    "The purple dots represent 'false' in HighPriced, and the yellow dots represent 'true' in Highpriced.\\\n",
    "Purple dots and yellow dots can be linearly separated since it is possible to draw a linear line to separate those dots into the purple and yellow groups."
   ]
  },
  {
   "cell_type": "code",
   "execution_count": 10,
   "id": "452c82ca",
   "metadata": {},
   "outputs": [
    {
     "data": {
      "text/plain": [
       "numpy.ndarray"
      ]
     },
     "execution_count": 10,
     "metadata": {},
     "output_type": "execute_result"
    }
   ],
   "source": [
    "# create a x matrix to store RM and MEDV\n",
    "cols = ['RM','MEDV']\n",
    "x = data[cols].to_numpy()\n",
    "type(x)"
   ]
  },
  {
   "cell_type": "code",
   "execution_count": 11,
   "id": "6f3de85d",
   "metadata": {},
   "outputs": [
    {
     "data": {
      "text/plain": [
       "(506, 2)"
      ]
     },
     "execution_count": 11,
     "metadata": {},
     "output_type": "execute_result"
    }
   ],
   "source": [
    "# show the shape of x\n",
    "x.shape"
   ]
  },
  {
   "cell_type": "code",
   "execution_count": 12,
   "id": "7fcd633d",
   "metadata": {},
   "outputs": [],
   "source": [
    "# createa a vector to store the HighPriced feature\n",
    "y = data['HighPriced'].to_numpy()\n",
    "y = 1* y # convert boolean values to 1 and 0"
   ]
  },
  {
   "cell_type": "code",
   "execution_count": 13,
   "id": "923fee00",
   "metadata": {},
   "outputs": [
    {
     "data": {
      "text/plain": [
       "(506,)"
      ]
     },
     "execution_count": 13,
     "metadata": {},
     "output_type": "execute_result"
    }
   ],
   "source": [
    "# show the shape of y\n",
    "y.shape"
   ]
  },
  {
   "cell_type": "code",
   "execution_count": 14,
   "id": "d6ffe4c4",
   "metadata": {},
   "outputs": [],
   "source": [
    "# create a bias array (bias = 1)\n",
    "bias = np.ones(len(y))"
   ]
  },
  {
   "cell_type": "code",
   "execution_count": 15,
   "id": "4d9da3a8",
   "metadata": {},
   "outputs": [],
   "source": [
    "# combine the bias array into the x matrix\n",
    "x = np.c_[bias,x]"
   ]
  },
  {
   "cell_type": "code",
   "execution_count": 16,
   "id": "8412a913",
   "metadata": {},
   "outputs": [
    {
     "data": {
      "text/plain": [
       "array([[ 1.   ,  6.575, 24.   ],\n",
       "       [ 1.   ,  6.421, 21.6  ],\n",
       "       [ 1.   ,  7.185, 34.7  ],\n",
       "       [ 1.   ,  6.998, 33.4  ],\n",
       "       [ 1.   ,  7.147, 36.2  ]])"
      ]
     },
     "execution_count": 16,
     "metadata": {},
     "output_type": "execute_result"
    }
   ],
   "source": [
    "# show the top 5 rows of matrix x\n",
    "x[:5]"
   ]
  },
  {
   "cell_type": "code",
   "execution_count": 17,
   "id": "456b25c7",
   "metadata": {},
   "outputs": [],
   "source": [
    "# set the step size\n",
    "step = 0.01"
   ]
  },
  {
   "cell_type": "code",
   "execution_count": 18,
   "id": "60b4c48b",
   "metadata": {},
   "outputs": [],
   "source": [
    "# intialize a vector of weights\n",
    "# np.random.rand will generate random numbers between 0 and 1\n",
    "weights = np.random.rand(x.shape[1])"
   ]
  },
  {
   "cell_type": "code",
   "execution_count": 19,
   "id": "092000c8",
   "metadata": {},
   "outputs": [
    {
     "data": {
      "text/plain": [
       "0.01"
      ]
     },
     "execution_count": 19,
     "metadata": {},
     "output_type": "execute_result"
    }
   ],
   "source": [
    "# show step size\n",
    "step"
   ]
  },
  {
   "cell_type": "code",
   "execution_count": 20,
   "id": "dc64e517",
   "metadata": {},
   "outputs": [
    {
     "data": {
      "text/plain": [
       "array([0.52255297, 0.93989783, 0.67365605])"
      ]
     },
     "execution_count": 20,
     "metadata": {},
     "output_type": "execute_result"
    }
   ],
   "source": [
    "# show starting weights\n",
    "weights"
   ]
  },
  {
   "cell_type": "code",
   "execution_count": 21,
   "id": "5c89c89e",
   "metadata": {},
   "outputs": [],
   "source": [
    "# Create a function called myPerceptron\n",
    "def myPerceptron(x, y, weights, stepsize):\n",
    "    dot = np.dot(x,weights)\n",
    "    mis = 0\n",
    "    updated_weights = weights\n",
    "    for i in range(y.shape[0]):\n",
    "        if dot[i] >=0:\n",
    "            ypred = 1\n",
    "        else:\n",
    "            ypred = 0\n",
    "        if ypred != y[i]:\n",
    "            mis = mis + 1\n",
    "            updated_weights = stepsize*(y[i]-ypred)*x[i] + weights\n",
    "        else: \n",
    "            continue\n",
    "    return updated_weights, mis"
   ]
  },
  {
   "cell_type": "code",
   "execution_count": 22,
   "id": "91652d45",
   "metadata": {
    "scrolled": true
   },
   "outputs": [
    {
     "name": "stdout",
     "output_type": "stream",
     "text": [
      "Number of iterations:  13404\n"
     ]
    }
   ],
   "source": [
    "# set step size\n",
    "step = 0.01\n",
    "# initialization\n",
    "weights = np.random.rand(x.shape[1])\n",
    "mis = 100\n",
    "list_mis = []\n",
    "list_iteration = []\n",
    "num_iteration = 0\n",
    "# run the iteration untill mis = 0\n",
    "while mis >0:   \n",
    "    weights_new = weights.copy()\n",
    "    weights, mis = myPerceptron(x, y, weights_new, step)\n",
    "    num_iteration = num_iteration + 1\n",
    "    list_iteration.append(num_iteration)\n",
    "    list_mis.append(mis)\n",
    "print('Number of iterations: ', len(list_iteration))"
   ]
  },
  {
   "cell_type": "code",
   "execution_count": 25,
   "id": "44fd7b63",
   "metadata": {},
   "outputs": [
    {
     "data": {
      "text/plain": [
       "13404"
      ]
     },
     "execution_count": 25,
     "metadata": {},
     "output_type": "execute_result"
    }
   ],
   "source": [
    "len(list_mis)"
   ]
  },
  {
   "cell_type": "code",
   "execution_count": 49,
   "id": "2a5a5c5b",
   "metadata": {},
   "outputs": [
    {
     "data": {
      "text/plain": [
       "0"
      ]
     },
     "execution_count": 49,
     "metadata": {},
     "output_type": "execute_result"
    }
   ],
   "source": [
    "list_mis[13403]"
   ]
  },
  {
   "cell_type": "code",
   "execution_count": 344,
   "id": "06c57f10",
   "metadata": {},
   "outputs": [
    {
     "name": "stdout",
     "output_type": "stream",
     "text": [
      "Weights when converged:  [-34.03977488  -2.57839703   1.3359341 ]\n"
     ]
    }
   ],
   "source": [
    "print('Weights when converged: ', weights)"
   ]
  },
  {
   "cell_type": "markdown",
   "id": "fb34e7ab",
   "metadata": {},
   "source": [
    "#### Number of iterations function took to converge.\n",
    "13,404"
   ]
  },
  {
   "cell_type": "code",
   "execution_count": 32,
   "id": "b6a92287",
   "metadata": {},
   "outputs": [
    {
     "data": {
      "text/html": [
       "<div>\n",
       "<style scoped>\n",
       "    .dataframe tbody tr th:only-of-type {\n",
       "        vertical-align: middle;\n",
       "    }\n",
       "\n",
       "    .dataframe tbody tr th {\n",
       "        vertical-align: top;\n",
       "    }\n",
       "\n",
       "    .dataframe thead th {\n",
       "        text-align: right;\n",
       "    }\n",
       "</style>\n",
       "<table border=\"1\" class=\"dataframe\">\n",
       "  <thead>\n",
       "    <tr style=\"text-align: right;\">\n",
       "      <th></th>\n",
       "      <th>Number_iterations</th>\n",
       "      <th>Number_errors</th>\n",
       "    </tr>\n",
       "  </thead>\n",
       "  <tbody>\n",
       "    <tr>\n",
       "      <th>0</th>\n",
       "      <td>1</td>\n",
       "      <td>475</td>\n",
       "    </tr>\n",
       "    <tr>\n",
       "      <th>1</th>\n",
       "      <td>2</td>\n",
       "      <td>475</td>\n",
       "    </tr>\n",
       "    <tr>\n",
       "      <th>2</th>\n",
       "      <td>3</td>\n",
       "      <td>500</td>\n",
       "    </tr>\n",
       "  </tbody>\n",
       "</table>\n",
       "</div>"
      ],
      "text/plain": [
       "   Number_iterations  Number_errors\n",
       "0                  1            475\n",
       "1                  2            475\n",
       "2                  3            500"
      ]
     },
     "execution_count": 32,
     "metadata": {},
     "output_type": "execute_result"
    }
   ],
   "source": [
    "# plot the number of errors for each iteration vs the iteration number\n",
    "# create a dataframe\n",
    "df = pd.DataFrame(\n",
    "    {'Number_iterations': list_iteration,\n",
    "     'Number_errors': list_mis})\n",
    "df.head(3)"
   ]
  },
  {
   "cell_type": "code",
   "execution_count": 33,
   "id": "a4ca553d",
   "metadata": {},
   "outputs": [
    {
     "data": {
      "text/html": [
       "<div>\n",
       "<style scoped>\n",
       "    .dataframe tbody tr th:only-of-type {\n",
       "        vertical-align: middle;\n",
       "    }\n",
       "\n",
       "    .dataframe tbody tr th {\n",
       "        vertical-align: top;\n",
       "    }\n",
       "\n",
       "    .dataframe thead th {\n",
       "        text-align: right;\n",
       "    }\n",
       "</style>\n",
       "<table border=\"1\" class=\"dataframe\">\n",
       "  <thead>\n",
       "    <tr style=\"text-align: right;\">\n",
       "      <th></th>\n",
       "      <th>Number_iterations</th>\n",
       "      <th>Number_errors</th>\n",
       "    </tr>\n",
       "  </thead>\n",
       "  <tbody>\n",
       "    <tr>\n",
       "      <th>13401</th>\n",
       "      <td>13402</td>\n",
       "      <td>12</td>\n",
       "    </tr>\n",
       "    <tr>\n",
       "      <th>13402</th>\n",
       "      <td>13403</td>\n",
       "      <td>37</td>\n",
       "    </tr>\n",
       "    <tr>\n",
       "      <th>13403</th>\n",
       "      <td>13404</td>\n",
       "      <td>0</td>\n",
       "    </tr>\n",
       "  </tbody>\n",
       "</table>\n",
       "</div>"
      ],
      "text/plain": [
       "       Number_iterations  Number_errors\n",
       "13401              13402             12\n",
       "13402              13403             37\n",
       "13403              13404              0"
      ]
     },
     "execution_count": 33,
     "metadata": {},
     "output_type": "execute_result"
    }
   ],
   "source": [
    "df.tail(3)"
   ]
  },
  {
   "cell_type": "code",
   "execution_count": 34,
   "id": "bac9b90f",
   "metadata": {},
   "outputs": [
    {
     "data": {
      "text/plain": [
       "Text(0.5, 1.0, 'Plot of number of iterations and errors')"
      ]
     },
     "execution_count": 34,
     "metadata": {},
     "output_type": "execute_result"
    },
    {
     "data": {
      "image/png": "[encoded data removed]",
      "text/plain": [
       "<Figure size 720x576 with 1 Axes>"
      ]
     },
     "metadata": {
      "needs_background": "light"
     },
     "output_type": "display_data"
    }
   ],
   "source": [
    "# plot\n",
    "plt.rcParams[\"figure.figsize\"] = (10,8)\n",
    "df.plot(x ='Number_iterations', y='Number_errors', kind = 'line')\n",
    "plt.ylim(0., 500)\n",
    "plt.xlim(0., 14000)\n",
    "plt.xlabel('Number of iterations/epochs', fontsize=16)\n",
    "plt.ylabel('Number of errors', fontsize=16)\n",
    "plt.title('Plot of number of iterations and errors', fontsize = 20)"
   ]
  },
  {
   "cell_type": "markdown",
   "id": "b3d0db75",
   "metadata": {},
   "source": [
    "#### Findings"
   ]
  },
  {
   "cell_type": "markdown",
   "id": "6befb5b6",
   "metadata": {},
   "source": [
    "The line drops dramatically when the number of iterations reach around 600. After 5,000 times of iterations, the number of errors fluctuated around 100. When the number of iterations come to 13214, the number of errors drops to 0."
   ]
  },
  {
   "cell_type": "markdown",
   "id": "2b54b70e",
   "metadata": {},
   "source": [
    "#### Superimpose the separation line"
   ]
  },
  {
   "cell_type": "code",
   "execution_count": 376,
   "id": "e3357b3e",
   "metadata": {},
   "outputs": [
    {
     "data": {
      "image/png": "[encoded data removed]",
      "text/plain": [
       "<Figure size 576x576 with 1 Axes>"
      ]
     },
     "metadata": {
      "needs_background": "light"
     },
     "output_type": "display_data"
    }
   ],
   "source": [
    "plt.rcParams[\"figure.figsize\"] = (8,8)\n",
    "plt.scatter(data['RM'], data['MEDV'], c = data['HighPriced'])\n",
    "plt.xlabel('RM', fontsize=16)\n",
    "plt.ylabel('MEDV', fontsize=16)\n",
    "plt.title('Scatter plot of RM and MEDV', fontsize = 20)\n",
    "plt.ylim(0., 55.0)\n",
    "plt.xlim(0., 9.0)\n",
    "plt.legend(data['HighPriced'],loc='upper left')\n",
    "plt.plot(data['RM'], -1*weights[0]/weights[2] - (weights[1]/weights[2])*data['RM'] ,'-c', label='Separation line')\n",
    "plt.grid()\n",
    "plt.show()"
   ]
  },
  {
   "cell_type": "markdown",
   "id": "9b4e072c",
   "metadata": {},
   "source": [
    "The separation line draw from the results of iteration has a positive slope, pointing up to the upper right corner. \n",
    "This line successfully separate purple dots and yellow dots (representing highpriced observations).\n",
    "\n",
    "But if we are to draw a separation line manually without iterations, we probably will come up with a horizontal line since the yellow dots are above 40 in the y axis."
   ]
  }
 ],
 "metadata": {
  "kernelspec": {
   "display_name": "Python 3 (ipykernel)",
   "language": "python",
   "name": "python3"
  },
  "language_info": {
   "codemirror_mode": {
    "name": "ipython",
    "version": 3
   },
   "file_extension": ".py",
   "mimetype": "text/x-python",
   "name": "python",
   "nbconvert_exporter": "python",
   "pygments_lexer": "ipython3",
   "version": "3.7.7"
  }
 },
 "nbformat": 4,
 "nbformat_minor": 5
}
